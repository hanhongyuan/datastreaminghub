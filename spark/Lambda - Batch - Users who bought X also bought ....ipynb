{
 "cells": [
  {
   "cell_type": "code",
   "execution_count": 1,
   "metadata": {},
   "outputs": [],
   "source": [
    "import os\n",
    "os.environ['PYSPARK_SUBMIT_ARGS'] = \\\n",
    "  '--conf spark.cassandra.connection.host=cassandra --packages com.datastax.spark:spark-cassandra-connector_2.11:2.0.2 pyspark-shell'"
   ]
  },
  {
   "cell_type": "code",
   "execution_count": 2,
   "metadata": {},
   "outputs": [],
   "source": [
    "from pyspark import SparkContext\n",
    "from pyspark.sql import SQLContext\n",
    "from pyspark.sql import functions as F\n",
    "from pyspark.sql.types import *"
   ]
  },
  {
   "cell_type": "code",
   "execution_count": 3,
   "metadata": {},
   "outputs": [],
   "source": [
    "sc = SparkContext(appName=\"BigDataRiver\")\n",
    "sc.setLogLevel(\"WARN\")\n",
    "sc.setCheckpointDir('checkpoint/')\n",
    "sql = SQLContext(sc)"
   ]
  },
  {
   "cell_type": "code",
   "execution_count": 4,
   "metadata": {},
   "outputs": [],
   "source": [
    "def usersWhoBoughtXAlsoBought(df):\n",
    "    productDf = df.select('user_id', 'product')\n",
    "    otherProductDf = productDf.toDF('user_id', 'other_product')\n",
    "    matchedProductsDf = productDf.join(otherProductDf, otherProductDf['user_id'] == productDf['user_id'], 'inner').\\\n",
    "            filter(\"`product` != `other_product`\").select('product','other_product').\\\n",
    "            groupby('product','other_product').count().toDF(\"product\",\"other_product\",\"count\")\n",
    "    return matchedProductsDf"
   ]
  },
  {
   "cell_type": "code",
   "execution_count": 5,
   "metadata": {},
   "outputs": [],
   "source": [
    "def selectTopProducts(df):\n",
    "    df.registerTempTable(\"products\")\n",
    "    topProductsDf = sql.sql(\"\"\"\n",
    "        SELECT\n",
    "            *,\n",
    "            ROW_NUMBER() OVER(PARTITION BY product ORDER BY count DESC) rn\n",
    "        FROM products\n",
    "    \"\"\").where(\"rn <= 5\").groupBy(\"product\").agg(F.collect_list(\"other_product\").alias(\"other_products\"))\n",
    "    return topProductsDf"
   ]
  },
  {
   "cell_type": "code",
   "execution_count": 6,
   "metadata": {},
   "outputs": [],
   "source": [
    "def processBatch():\n",
    "    allUserProductsDf = sql.read.format(\"org.apache.spark.sql.cassandra\").\\\n",
    "        options(table=\"all_user_products\", keyspace=\"bdr\").load().cache()\n",
    "    \n",
    "    topDf = selectTopProducts(usersWhoBoughtXAlsoBought(allUserProductsDf))\n",
    "    \n",
    "    topDf.show()\n",
    "            \n",
    "    topDf.write.format(\"org.apache.spark.sql.cassandra\").\\\n",
    "        mode('append').options(table=\"top_other_products_batch\", keyspace=\"bdr\").save()"
   ]
  },
  {
   "cell_type": "code",
   "execution_count": 7,
   "metadata": {
    "scrolled": false
   },
   "outputs": [
    {
     "name": "stdout",
     "output_type": "stream",
     "text": [
      "+-------+--------------------+\n",
      "|product|      other_products|\n",
      "+-------+--------------------+\n",
      "|     26|[84, 58, 73, 92, 96]|\n",
      "|     29|[61, 62, 36, 30, 82]|\n",
      "|     65|[89, 52, 96, 66, 87]|\n",
      "|     19|[33, 41, 98, 28, 95]|\n",
      "|     54|[10, 15, 79, 39, 18]|\n",
      "|      0|[96, 83, 41, 95, 56]|\n",
      "|     22|[64, 46, 82, 58, 38]|\n",
      "|      7|[15, 85, 91, 90, 39]|\n",
      "|     77|[91, 16, 51, 50, 21]|\n",
      "|     34|[36, 82, 31, 58, 63]|\n",
      "|     50| [47, 10, 91, 6, 32]|\n",
      "|     94|[91, 84, 41, 15, 12]|\n",
      "|     57|[12, 81, 61, 60, 30]|\n",
      "|     32|[15, 10, 76, 50, 48]|\n",
      "|     43|[89, 82, 85, 68, 30]|\n",
      "|     84|[92, 26, 44, 36, 96]|\n",
      "|     31|[89, 78, 34, 25, 80]|\n",
      "|     39|[91, 15, 48, 59, 32]|\n",
      "|     98|[68, 97, 37, 41, 21]|\n",
      "|     25|[64, 11, 82, 97, 58]|\n",
      "+-------+--------------------+\n",
      "only showing top 20 rows\n",
      "\n"
     ]
    }
   ],
   "source": [
    "processBatch()"
   ]
  },
  {
   "cell_type": "code",
   "execution_count": null,
   "metadata": {
    "collapsed": true
   },
   "outputs": [],
   "source": []
  }
 ],
 "metadata": {
  "kernelspec": {
   "display_name": "Python 3",
   "language": "python",
   "name": "python3"
  },
  "language_info": {
   "codemirror_mode": {
    "name": "ipython",
    "version": 3
   },
   "file_extension": ".py",
   "mimetype": "text/x-python",
   "name": "python",
   "nbconvert_exporter": "python",
   "pygments_lexer": "ipython3",
   "version": "3.6.3"
  }
 },
 "nbformat": 4,
 "nbformat_minor": 2
}
